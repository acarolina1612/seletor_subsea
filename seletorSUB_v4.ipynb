{
 "cells": [
  {
   "cell_type": "markdown",
   "metadata": {
    "colab_type": "text",
    "id": "6NQrqtei0k_E"
   },
   "source": [
    "## Seletor de conceito de arranjo submarino\n",
    "Versão 2: com otimizador de localização da plataforma<br>\n",
    "Versão 3: leitura externa das coordenadas dos poços<br>\n",
    "Versão 4: leitura externa dos custos, custo de linhas calculado por fixo+distância*variável"
   ]
  },
  {
   "cell_type": "markdown",
   "metadata": {
    "colab_type": "text",
    "id": "ms1GJeJmtCgt"
   },
   "source": [
    "### Instalação e carregamento das bibliotecas de GA em python"
   ]
  },
  {
   "cell_type": "code",
   "execution_count": 1,
   "metadata": {
    "colab": {},
    "colab_type": "code",
    "id": "-hFtGwoP00Nq"
   },
   "outputs": [],
   "source": [
    "import random\n",
    "import numpy as np\n",
    "from deap import base\n",
    "from deap import creator\n",
    "from deap import tools\n",
    "from deap import algorithms\n",
    "import math\n",
    "import pandas as pd\n",
    "from copy import deepcopy\n",
    "import matplotlib.pyplot as plt"
   ]
  },
  {
   "cell_type": "markdown",
   "metadata": {},
   "source": [
    "### Inputs do programa"
   ]
  },
  {
   "cell_type": "code",
   "execution_count": 2,
   "metadata": {},
   "outputs": [],
   "source": [
    "#constantes importantes\n",
    "LDA = 2500 # lâmina de água\n",
    "maxP_SDU = 2 # máximo de produtores por SDU"
   ]
  },
  {
   "cell_type": "code",
   "execution_count": 3,
   "metadata": {
    "scrolled": false
   },
   "outputs": [
    {
     "data": {
      "text/html": [
       "<div>\n",
       "<style scoped>\n",
       "    .dataframe tbody tr th:only-of-type {\n",
       "        vertical-align: middle;\n",
       "    }\n",
       "\n",
       "    .dataframe tbody tr th {\n",
       "        vertical-align: top;\n",
       "    }\n",
       "\n",
       "    .dataframe thead th {\n",
       "        text-align: right;\n",
       "    }\n",
       "</style>\n",
       "<table border=\"1\" class=\"dataframe\">\n",
       "  <thead>\n",
       "    <tr style=\"text-align: right;\">\n",
       "      <th></th>\n",
       "      <th>Nome</th>\n",
       "      <th>X</th>\n",
       "      <th>Y</th>\n",
       "      <th>Tipo</th>\n",
       "    </tr>\n",
       "  </thead>\n",
       "  <tbody>\n",
       "    <tr>\n",
       "      <th>0</th>\n",
       "      <td>WAG1</td>\n",
       "      <td>485.699422</td>\n",
       "      <td>796.459049</td>\n",
       "      <td>W</td>\n",
       "    </tr>\n",
       "    <tr>\n",
       "      <th>1</th>\n",
       "      <td>WAG2</td>\n",
       "      <td>6036.900474</td>\n",
       "      <td>-5480.519026</td>\n",
       "      <td>W</td>\n",
       "    </tr>\n",
       "    <tr>\n",
       "      <th>2</th>\n",
       "      <td>WAG3</td>\n",
       "      <td>5289.208571</td>\n",
       "      <td>-615.039582</td>\n",
       "      <td>W</td>\n",
       "    </tr>\n",
       "    <tr>\n",
       "      <th>3</th>\n",
       "      <td>WAG4</td>\n",
       "      <td>-1577.096057</td>\n",
       "      <td>3196.922295</td>\n",
       "      <td>W</td>\n",
       "    </tr>\n",
       "    <tr>\n",
       "      <th>4</th>\n",
       "      <td>WAG5</td>\n",
       "      <td>-4672.499098</td>\n",
       "      <td>1792.671609</td>\n",
       "      <td>W</td>\n",
       "    </tr>\n",
       "    <tr>\n",
       "      <th>5</th>\n",
       "      <td>WAG6</td>\n",
       "      <td>-2930.926974</td>\n",
       "      <td>-1306.364818</td>\n",
       "      <td>W</td>\n",
       "    </tr>\n",
       "    <tr>\n",
       "      <th>6</th>\n",
       "      <td>PO1</td>\n",
       "      <td>-2282.575846</td>\n",
       "      <td>298.398152</td>\n",
       "      <td>P</td>\n",
       "    </tr>\n",
       "    <tr>\n",
       "      <th>7</th>\n",
       "      <td>PO2</td>\n",
       "      <td>6157.279148</td>\n",
       "      <td>-2152.901390</td>\n",
       "      <td>P</td>\n",
       "    </tr>\n",
       "    <tr>\n",
       "      <th>8</th>\n",
       "      <td>PO3</td>\n",
       "      <td>4862.131934</td>\n",
       "      <td>-2910.836093</td>\n",
       "      <td>P</td>\n",
       "    </tr>\n",
       "    <tr>\n",
       "      <th>9</th>\n",
       "      <td>PO5</td>\n",
       "      <td>-2356.923793</td>\n",
       "      <td>1272.194585</td>\n",
       "      <td>P</td>\n",
       "    </tr>\n",
       "    <tr>\n",
       "      <th>10</th>\n",
       "      <td>PO6</td>\n",
       "      <td>-3673.766155</td>\n",
       "      <td>-1262.805957</td>\n",
       "      <td>P</td>\n",
       "    </tr>\n",
       "    <tr>\n",
       "      <th>11</th>\n",
       "      <td>PO7</td>\n",
       "      <td>-2623.524969</td>\n",
       "      <td>4097.794188</td>\n",
       "      <td>P</td>\n",
       "    </tr>\n",
       "    <tr>\n",
       "      <th>12</th>\n",
       "      <td>PO8</td>\n",
       "      <td>-2713.906656</td>\n",
       "      <td>2274.026987</td>\n",
       "      <td>P</td>\n",
       "    </tr>\n",
       "  </tbody>\n",
       "</table>\n",
       "</div>"
      ],
      "text/plain": [
       "    Nome            X            Y Tipo\n",
       "0   WAG1   485.699422   796.459049    W\n",
       "1   WAG2  6036.900474 -5480.519026    W\n",
       "2   WAG3  5289.208571  -615.039582    W\n",
       "3   WAG4 -1577.096057  3196.922295    W\n",
       "4   WAG5 -4672.499098  1792.671609    W\n",
       "5   WAG6 -2930.926974 -1306.364818    W\n",
       "6    PO1 -2282.575846   298.398152    P\n",
       "7    PO2  6157.279148 -2152.901390    P\n",
       "8    PO3  4862.131934 -2910.836093    P\n",
       "9    PO5 -2356.923793  1272.194585    P\n",
       "10   PO6 -3673.766155 -1262.805957    P\n",
       "11   PO7 -2623.524969  4097.794188    P\n",
       "12   PO8 -2713.906656  2274.026987    P"
      ]
     },
     "execution_count": 3,
     "metadata": {},
     "output_type": "execute_result"
    }
   ],
   "source": [
    "# nomes, coordenadas e tipos dos poços devem estar no arquivo 'pocos.csv'\n",
    "pocos = pd.read_csv('pocos.csv',names=['Nome','X','Y','Tipo'])\n",
    "\n",
    "#pocos[['X','Y']] += np.random.normal(scale=500,size=(pocos.shape[0],2))\n",
    "\n",
    "meanpos = list(pocos[['X','Y']].mean())\n",
    "#pocos['X'] = pocos['X'] - meanpos[0]\n",
    "#pocos['Y'] = pocos['Y'] - meanpos[1]\n",
    "minmaxX = [pocos['X'].min(), pocos['X'].max()]\n",
    "minmaxY = [pocos['Y'].min(), pocos['Y'].max()]\n",
    "ampl = [minmaxX[1]-minmaxX[0],minmaxY[1]-minmaxY[0]]\n",
    "\n",
    "pocos"
   ]
  },
  {
   "cell_type": "code",
   "execution_count": 4,
   "metadata": {},
   "outputs": [
    {
     "data": {
      "text/html": [
       "<div>\n",
       "<style scoped>\n",
       "    .dataframe tbody tr th:only-of-type {\n",
       "        vertical-align: middle;\n",
       "    }\n",
       "\n",
       "    .dataframe tbody tr th {\n",
       "        vertical-align: top;\n",
       "    }\n",
       "\n",
       "    .dataframe thead th {\n",
       "        text-align: right;\n",
       "    }\n",
       "</style>\n",
       "<table border=\"1\" class=\"dataframe\">\n",
       "  <thead>\n",
       "    <tr style=\"text-align: right;\">\n",
       "      <th></th>\n",
       "      <th>custo</th>\n",
       "      <th>maxpocos</th>\n",
       "      <th>linhas</th>\n",
       "      <th>pocos</th>\n",
       "      <th>qnt</th>\n",
       "    </tr>\n",
       "  </thead>\n",
       "  <tbody>\n",
       "    <tr>\n",
       "      <th>MSGL</th>\n",
       "      <td>37000</td>\n",
       "      <td>6</td>\n",
       "      <td>[GL, Umb]</td>\n",
       "      <td>[P]</td>\n",
       "      <td>0</td>\n",
       "    </tr>\n",
       "    <tr>\n",
       "      <th>MSIAG</th>\n",
       "      <td>40000</td>\n",
       "      <td>2</td>\n",
       "      <td>[IWAG, Umb]</td>\n",
       "      <td>[W]</td>\n",
       "      <td>0</td>\n",
       "    </tr>\n",
       "    <tr>\n",
       "      <th>MSIA</th>\n",
       "      <td>40000</td>\n",
       "      <td>4</td>\n",
       "      <td>[IA, Umb]</td>\n",
       "      <td>[A]</td>\n",
       "      <td>0</td>\n",
       "    </tr>\n",
       "    <tr>\n",
       "      <th>SDU</th>\n",
       "      <td>3000</td>\n",
       "      <td>4</td>\n",
       "      <td>[Umb]</td>\n",
       "      <td>[A, W, G, P]</td>\n",
       "      <td>0</td>\n",
       "    </tr>\n",
       "  </tbody>\n",
       "</table>\n",
       "</div>"
      ],
      "text/plain": [
       "       custo  maxpocos       linhas         pocos  qnt\n",
       "MSGL   37000         6    [GL, Umb]           [P]    0\n",
       "MSIAG  40000         2  [IWAG, Umb]           [W]    0\n",
       "MSIA   40000         4    [IA, Umb]           [A]    0\n",
       "SDU     3000         4        [Umb]  [A, W, G, P]    0"
      ]
     },
     "execution_count": 4,
     "metadata": {},
     "output_type": "execute_result"
    }
   ],
   "source": [
    "#dados de custos e dados básicos dos manifolds\n",
    "custoeq = pd.read_csv('custoeq.csv',index_col=0,header=0)\n",
    "custoeqaux = pd.DataFrame({'linhas':[['IWAG','Umb'],['IA','Umb'],['Umb'],['GL','Umb']],\\\n",
    "                      'pocos':[['W'],['A'],['A','W','G','P'],['P']],'qnt':[0,0,0,0]},\\\n",
    "                      index=['MSIAG','MSIA','SDU','MSGL'])\n",
    "custoeq = pd.concat([custoeq,custoeqaux],axis=1,join='inner')\n",
    "\n",
    "custolin = pd.read_csv('custolin.csv',index_col=0,header=0)\n",
    "custolin = pd.concat([custolin,pd.DataFrame({'pocos':[['P'],['P','A','W'],['A'],['W']]},\\\n",
    "                                  index=['GL','Umb','IA','IWAG'])],axis=1,join='inner')\n",
    "custoeq"
   ]
  },
  {
   "cell_type": "code",
   "execution_count": 5,
   "metadata": {},
   "outputs": [
    {
     "data": {
      "text/html": [
       "<div>\n",
       "<style scoped>\n",
       "    .dataframe tbody tr th:only-of-type {\n",
       "        vertical-align: middle;\n",
       "    }\n",
       "\n",
       "    .dataframe tbody tr th {\n",
       "        vertical-align: top;\n",
       "    }\n",
       "\n",
       "    .dataframe thead th {\n",
       "        text-align: right;\n",
       "    }\n",
       "</style>\n",
       "<table border=\"1\" class=\"dataframe\">\n",
       "  <thead>\n",
       "    <tr style=\"text-align: right;\">\n",
       "      <th></th>\n",
       "      <th>principal_fixo</th>\n",
       "      <th>principal_var</th>\n",
       "      <th>derivado_fixo</th>\n",
       "      <th>derivado_var</th>\n",
       "      <th>pocos</th>\n",
       "    </tr>\n",
       "  </thead>\n",
       "  <tbody>\n",
       "    <tr>\n",
       "      <th>GL</th>\n",
       "      <td>2000</td>\n",
       "      <td>3.0</td>\n",
       "      <td>1000</td>\n",
       "      <td>1.6</td>\n",
       "      <td>[P]</td>\n",
       "    </tr>\n",
       "    <tr>\n",
       "      <th>Umb</th>\n",
       "      <td>1000</td>\n",
       "      <td>2.4</td>\n",
       "      <td>0</td>\n",
       "      <td>1.3</td>\n",
       "      <td>[P, A, W]</td>\n",
       "    </tr>\n",
       "    <tr>\n",
       "      <th>IA</th>\n",
       "      <td>2000</td>\n",
       "      <td>3.0</td>\n",
       "      <td>1500</td>\n",
       "      <td>2.4</td>\n",
       "      <td>[A]</td>\n",
       "    </tr>\n",
       "    <tr>\n",
       "      <th>IWAG</th>\n",
       "      <td>2000</td>\n",
       "      <td>3.0</td>\n",
       "      <td>1500</td>\n",
       "      <td>2.4</td>\n",
       "      <td>[W]</td>\n",
       "    </tr>\n",
       "  </tbody>\n",
       "</table>\n",
       "</div>"
      ],
      "text/plain": [
       "      principal_fixo  principal_var  derivado_fixo  derivado_var      pocos\n",
       "GL              2000            3.0           1000           1.6        [P]\n",
       "Umb             1000            2.4              0           1.3  [P, A, W]\n",
       "IA              2000            3.0           1500           2.4        [A]\n",
       "IWAG            2000            3.0           1500           2.4        [W]"
      ]
     },
     "execution_count": 5,
     "metadata": {},
     "output_type": "execute_result"
    }
   ],
   "source": [
    "custolin"
   ]
  },
  {
   "cell_type": "markdown",
   "metadata": {},
   "source": [
    "### Primeiros cálculos"
   ]
  },
  {
   "cell_type": "code",
   "execution_count": 6,
   "metadata": {},
   "outputs": [
    {
     "data": {
      "text/html": [
       "<div>\n",
       "<style scoped>\n",
       "    .dataframe tbody tr th:only-of-type {\n",
       "        vertical-align: middle;\n",
       "    }\n",
       "\n",
       "    .dataframe tbody tr th {\n",
       "        vertical-align: top;\n",
       "    }\n",
       "\n",
       "    .dataframe thead th {\n",
       "        text-align: right;\n",
       "    }\n",
       "</style>\n",
       "<table border=\"1\" class=\"dataframe\">\n",
       "  <thead>\n",
       "    <tr style=\"text-align: right;\">\n",
       "      <th></th>\n",
       "      <th>X</th>\n",
       "      <th>Y</th>\n",
       "      <th>Tipo</th>\n",
       "    </tr>\n",
       "  </thead>\n",
       "  <tbody>\n",
       "    <tr>\n",
       "      <th>0</th>\n",
       "      <td>0.0</td>\n",
       "      <td>0.0</td>\n",
       "      <td>Plat</td>\n",
       "    </tr>\n",
       "    <tr>\n",
       "      <th>1</th>\n",
       "      <td>0.0</td>\n",
       "      <td>0.0</td>\n",
       "      <td>MSGL</td>\n",
       "    </tr>\n",
       "    <tr>\n",
       "      <th>2</th>\n",
       "      <td>0.0</td>\n",
       "      <td>0.0</td>\n",
       "      <td>MSGL</td>\n",
       "    </tr>\n",
       "    <tr>\n",
       "      <th>3</th>\n",
       "      <td>0.0</td>\n",
       "      <td>0.0</td>\n",
       "      <td>MSIAG</td>\n",
       "    </tr>\n",
       "    <tr>\n",
       "      <th>4</th>\n",
       "      <td>0.0</td>\n",
       "      <td>0.0</td>\n",
       "      <td>MSIAG</td>\n",
       "    </tr>\n",
       "    <tr>\n",
       "      <th>5</th>\n",
       "      <td>0.0</td>\n",
       "      <td>0.0</td>\n",
       "      <td>MSIAG</td>\n",
       "    </tr>\n",
       "    <tr>\n",
       "      <th>6</th>\n",
       "      <td>0.0</td>\n",
       "      <td>0.0</td>\n",
       "      <td>MSIAG</td>\n",
       "    </tr>\n",
       "    <tr>\n",
       "      <th>7</th>\n",
       "      <td>0.0</td>\n",
       "      <td>0.0</td>\n",
       "      <td>MSIAG</td>\n",
       "    </tr>\n",
       "    <tr>\n",
       "      <th>8</th>\n",
       "      <td>0.0</td>\n",
       "      <td>0.0</td>\n",
       "      <td>SDU</td>\n",
       "    </tr>\n",
       "    <tr>\n",
       "      <th>9</th>\n",
       "      <td>0.0</td>\n",
       "      <td>0.0</td>\n",
       "      <td>SDU</td>\n",
       "    </tr>\n",
       "    <tr>\n",
       "      <th>10</th>\n",
       "      <td>0.0</td>\n",
       "      <td>0.0</td>\n",
       "      <td>SDU</td>\n",
       "    </tr>\n",
       "    <tr>\n",
       "      <th>11</th>\n",
       "      <td>0.0</td>\n",
       "      <td>0.0</td>\n",
       "      <td>SDU</td>\n",
       "    </tr>\n",
       "    <tr>\n",
       "      <th>12</th>\n",
       "      <td>0.0</td>\n",
       "      <td>0.0</td>\n",
       "      <td>SDU</td>\n",
       "    </tr>\n",
       "  </tbody>\n",
       "</table>\n",
       "</div>"
      ],
      "text/plain": [
       "      X    Y   Tipo\n",
       "0   0.0  0.0   Plat\n",
       "1   0.0  0.0   MSGL\n",
       "2   0.0  0.0   MSGL\n",
       "3   0.0  0.0  MSIAG\n",
       "4   0.0  0.0  MSIAG\n",
       "5   0.0  0.0  MSIAG\n",
       "6   0.0  0.0  MSIAG\n",
       "7   0.0  0.0  MSIAG\n",
       "8   0.0  0.0    SDU\n",
       "9   0.0  0.0    SDU\n",
       "10  0.0  0.0    SDU\n",
       "11  0.0  0.0    SDU\n",
       "12  0.0  0.0    SDU"
      ]
     },
     "execution_count": 6,
     "metadata": {},
     "output_type": "execute_result"
    }
   ],
   "source": [
    "# número máximo de manifolds de cada tipo - primeira estimativa\n",
    "for manifold in custoeq.index:\n",
    "    custoeq.at[manifold,'qnt'] = math.ceil(1.5*sum(pocos[pocos['Tipo']==tipo].count()['X'] for tipo in \\\n",
    "                                               custoeq.at[manifold,'pocos'])/custoeq.at[manifold,'maxpocos'])\n",
    "\n",
    "maxall = custoeq['qnt'].sum()\n",
    "\n",
    "# dataframe dos dados dos manifolds e da plataforma\n",
    "manif = pd.DataFrame(np.zeros((maxall+1,2)),columns=['X','Y'])\n",
    "maniftipos = ['Plat']\n",
    "\n",
    "for tipo in custoeq.index:\n",
    "    novas = [tipo]*custoeq.at[tipo,'qnt']\n",
    "    maniftipos.extend(novas)\n",
    "manif['Tipo'] = maniftipos.copy()\n",
    "\n",
    "manif"
   ]
  },
  {
   "cell_type": "markdown",
   "metadata": {},
   "source": [
    "## Algoritmo genético para definição da melhor localização da plataforma"
   ]
  },
  {
   "cell_type": "code",
   "execution_count": 7,
   "metadata": {},
   "outputs": [],
   "source": [
    "# distância euclidiana entre dois pontos\n",
    "def distancia(p1,p2):\n",
    "    return math.sqrt((p1[0]-p2[0])**2+(p1[1]-p2[1])**2)\n",
    "\n",
    "# função de custo da plataforma, o cromossomo é uma lista [x,y] da localização da plataforma\n",
    "# O objetivo é minimizar a soma das distâncias\n",
    "def custoplat(cromossomo):\n",
    "    global pocos\n",
    "    totaldist = 0.0\n",
    "    for poco,dados in pocos.iterrows():\n",
    "        totaldist += distancia(cromossomo,list(dados[['X','Y']]))\n",
    "    return totaldist,\n",
    "\n",
    "# A restrição é que os poços não estejam no raio de ancoragem\n",
    "def restricaoplat(cromossomo):\n",
    "    global pocos\n",
    "    ancora = 1.4*LDA\n",
    "    flag = True\n",
    "    for poco,dados in pocos.iterrows():\n",
    "        if distancia(cromossomo,list(dados[['X','Y']])) < ancora:\n",
    "            flag = False\n",
    "            break\n",
    "    return flag\n",
    "\n",
    "def individuo_posplat(icls):\n",
    "    while True:\n",
    "        x = random.uniform(minmaxX[0]-ampl[0],minmaxX[1]+ampl[0])\n",
    "        y = random.uniform(minmaxY[0]-ampl[1],minmaxY[1]+ampl[1])\n",
    "        if restricaoplat([x,y]):\n",
    "            break\n",
    "    return icls([x,y])\n",
    "\n",
    "creator.create(\"FitnessMin1\", base.Fitness, weights=(-1.0,))\n",
    "creator.create(\"Ind_posplat\", list, fitness=creator.FitnessMin1)\n",
    "toolboxplat = base.Toolbox()\n",
    "toolboxplat.register('individual',individuo_posplat,creator.Ind_posplat)\n",
    "toolboxplat.register('population',tools.initRepeat,list,toolboxplat.individual)\n",
    "toolboxplat.register('evaluate', custoplat)\n",
    "toolboxplat.decorate('evaluate', tools.DeltaPenalty(restricaoplat, 100000))\n",
    "toolboxplat.register('mate', tools.cxBlend, alpha=0.3)\n",
    "toolboxplat.register('mutate', tools.mutGaussian, mu=0, sigma=500, indpb=1.0)\n",
    "toolboxplat.register('select', tools.selTournament, tournsize=3)"
   ]
  },
  {
   "cell_type": "code",
   "execution_count": 11,
   "metadata": {},
   "outputs": [],
   "source": [
    "pop = toolboxplat.population(n=100)\n",
    "hof = tools.HallOfFame(1)\n",
    "algorithms.eaSimple(pop,toolboxplat,cxpb=0.6,mutpb=0.2,ngen=40,halloffame=hof,verbose=False)\n",
    "\n",
    "manif.loc[0,['X','Y']] = hof[0]"
   ]
  },
  {
   "cell_type": "markdown",
   "metadata": {
    "colab_type": "text",
    "id": "vukKHLlYtNYa"
   },
   "source": [
    "### Declaração das funções auxiliares, algoritmo genético para alocação dos poços"
   ]
  },
  {
   "cell_type": "code",
   "execution_count": 12,
   "metadata": {},
   "outputs": [],
   "source": [
    "# Função que define a posição dos manifolds\n",
    "# Recebe as coordenadas dos poços, a razão de custo entre a linha principal e as derivações,\n",
    "# Os poços que estão conectados (uma lista),\n",
    "# E a posição da plataforma (lista com valor [X,Y])\n",
    "def LocaManifold(razao_custo,pocos_conect,plataforma):\n",
    "    global pocos\n",
    "    #razao_custo = razao_custo**2\n",
    "    xm = (pocos['X'].iloc[pocos_conect].sum()+razao_custo*plataforma[0])\\\n",
    "    /(razao_custo+len(pocos_conect))\n",
    "    ym = (pocos['Y'].iloc[pocos_conect].sum()+razao_custo*plataforma[1])\\\n",
    "    /(razao_custo+len(pocos_conect))\n",
    "    return [xm, ym]"
   ]
  },
  {
   "cell_type": "code",
   "execution_count": 33,
   "metadata": {
    "colab": {},
    "colab_type": "code",
    "id": "JmepN1Nd2es2"
   },
   "outputs": [],
   "source": [
    "# Função Objetivo\n",
    "# custo total do arranjo, incluindo equipamentos e linhas\n",
    "# o custo de linhas possui uma parcela fixa e uma variável com a distância\n",
    "\n",
    "# O custo do riser foi incluso como sendo o de uma linha do comprimento de 1,5 lâmina de água\n",
    "def CustoTotal(individual, final=False):\n",
    "    global pocos, manif, custolin, custoeq\n",
    "    custo = 0\n",
    "    posplat = list(manif.loc[0,['X','Y']]) #posição da plataforma\n",
    "    if final:\n",
    "        posicoes = np.zeros((maxall+1,2))\n",
    "        posicoes[0] = posplat.copy()\n",
    "    for manifold,dados in manif.iterrows():\n",
    "        #listar quais poços estão ligados a esse manifold\n",
    "        list_pocos = [i for i,j in enumerate(individual) if j==manifold]\n",
    "        if len(list_pocos)==0:\n",
    "            continue\n",
    "        \n",
    "        tipo = dados['Tipo']\n",
    "        # custo dos poços ligados à plataforma\n",
    "        if tipo=='Plat':\n",
    "            for poco in list_pocos:\n",
    "                custounit = sum(custolin.at[linha,'derivado_var'] for linha in custolin.index \\\n",
    "                                if pocos.at[poco,'Tipo'] in custolin.at[linha,'pocos'])\n",
    "                custo += custounit*distancia(posplat,list(pocos.loc[poco,['X','Y']]))\n",
    "                custo += sum(custolin.at[linha,'derivado_fixo'] for linha in custolin.index \\\n",
    "                             if pocos.at[poco,'Tipo'] in custolin.at[linha,'pocos'])\n",
    "                # custo de riser\n",
    "                custo += LDA*custounit*1.5\n",
    "        else:\n",
    "            # definição da razão de custo para localização\n",
    "            custounit_principal = sum(custolin.at[linha,'principal_var'] for linha in \\\n",
    "                                      custolin.index if linha in custoeq.at[tipo,'linhas'])\n",
    "            custounit_derivado = sum(custolin.at[linha,'derivado_var'] for linha in custolin.index\\\n",
    "                                     if linha in custoeq.at[tipo,'linhas'])\n",
    "            razao_custo = custounit_principal / custounit_derivado\n",
    "            \n",
    "            # definição da localização do manifold e custos principais\n",
    "            posicao = LocaManifold(razao_custo,list_pocos,posplat)\n",
    "            if final:\n",
    "                posicoes[manifold] = posicao.copy()\n",
    "            custo += custoeq.at[tipo,'custo']+custounit_principal*distancia(posplat,posicao)\n",
    "            custo += sum(custolin.at[linha,'principal_fixo'] for linha in \\\n",
    "                         custolin.index if linha in custoeq.at[tipo,'linhas'])\n",
    "            # custo de riser\n",
    "            custo += LDA*custounit_principal*1.5\n",
    "            \n",
    "            # custos de linhas dos poços\n",
    "            for poco in list_pocos:\n",
    "                pospoco = list(pocos.loc[poco,['X','Y']])\n",
    "                custo += custounit_derivado*distancia(posicao,pospoco)\n",
    "                custo += sum(custolin.at[linha,'derivado_fixo'] for linha in custolin.index \\\n",
    "                             if linha in custoeq.at[tipo,'linhas'])\n",
    "                tipopoco = pocos.at[poco,'Tipo']\n",
    "                # verifica se todas as linhas dos poços são atendidas pelo manifold\n",
    "                # caso contrário, liga as linhas restantes à plataforma\n",
    "                linhaspoco = [linha for linha in custolin.index if tipopoco in \\\n",
    "                              custolin.at[linha,'pocos']]\n",
    "                for linha in linhaspoco:\n",
    "                    if linha in custoeq.at[tipo,'linhas']:\n",
    "                        custo += custolin.at[linha,'derivado_var']*distancia(posicao,pospoco)\\\n",
    "                        +custolin.at[linha,'derivado_fixo']\n",
    "                    else:\n",
    "                        #aqui também tem um custo de riser\n",
    "                        custo += custolin.at[linha,'derivado_var']*(LDA*1.5+distancia(pospoco,posplat))\\\n",
    "                        +custolin.at[linha,'derivado_fixo']\n",
    "    if final:\n",
    "        manif.loc[1:,['X','Y']] = pd.DataFrame(posicoes,columns=['X','Y'])\n",
    "    return custo,"
   ]
  },
  {
   "cell_type": "code",
   "execution_count": 34,
   "metadata": {
    "colab": {},
    "colab_type": "code",
    "id": "QD65Dph78P3H"
   },
   "outputs": [],
   "source": [
    "# Função de restrição\n",
    "# Há restrição de número máximo de poços por manifold\n",
    "# O tipo de poço que se liga a cada manifold\n",
    "# Para SDUs, são no máximo maxP_SDU produtores\n",
    "\n",
    "def FuncaoDeRestricao(cromossomo):\n",
    "    global pocos, custoeq, manif\n",
    "    range_sdu = manif[manif['Tipo']=='SDU'].index.tolist()\n",
    "    flag = True\n",
    "    # verifica se o número máximo de poços por manifold foi respeitado\n",
    "    if any([len([i for i,j in enumerate(cromossomo) if j==manifold]) > \\\n",
    "            custoeq.at[manif.at[manifold,'Tipo'],'maxpocos'] for manifold in range(1,maxall)]):\n",
    "        flag = False\n",
    "    # verifica se são no máximo maxP_SDU produtores por SDU\n",
    "    elif any([len([i for i,j in enumerate(cromossomo) if j==manifold and \\\n",
    "                   pocos.at[i,'Tipo']=='P'])>maxP_SDU for manifold in range_sdu]):\n",
    "        flag = False\n",
    "    # verifica se os poços estão ligados ao tipo correto de manifold\n",
    "    else:\n",
    "        for poco,manifold in enumerate(cromossomo):\n",
    "            if manifold != 0:\n",
    "                if not pocos.at[poco,'Tipo'] in custoeq.at[manif.at[manifold,'Tipo'],'pocos']:\n",
    "                    flag = False\n",
    "                    break\n",
    "    #retorna True se as restrições são atendidas, False caso contrário\n",
    "    return flag\n",
    "\n",
    "# Função que retorna o quão distante uma solução está de ser válida\n",
    "def DistanciaRestricao(cromossomo):\n",
    "    global pocos, custoeq, manif\n",
    "    custodist = 0\n",
    "    # lista onde cada entrada correponde a um manifold e contém uma lista dos poços conectados\n",
    "    pocoslist = [[i for i,j in enumerate(cromossomo) if j==manifold] for manifold in manif.index]\n",
    "    for manifold,conectados in enumerate(pocoslist):\n",
    "        tipomanifold = manif.at[manifold,'Tipo']\n",
    "        if tipomanifold=='Plat':\n",
    "            continue\n",
    "        if tipomanifold=='SDU':\n",
    "            # Adiciona 1 para cada produtor além dos maxP_SDU máximos ligados ao SDU\n",
    "            custodist += max(0,[pocos.at[i,'Tipo'] for i in conectados].count('P')-maxP_SDU)\n",
    "        # Adiciona 1 para cada poço em um manifold além da sua capacidade\n",
    "        custodist += max(0,len(conectados)-custoeq.at[tipomanifold,'maxpocos'])\n",
    "        # Adiciona 1 para cada poço ligado a um manifold que não deveria\n",
    "        custodist += len([poco for poco in conectados if not pocos.at[poco,'Tipo']\\\n",
    "                      in custoeq.at[tipomanifold,'pocos']])\n",
    "    return 1000*custodist"
   ]
  },
  {
   "cell_type": "code",
   "execution_count": 35,
   "metadata": {
    "colab": {},
    "colab_type": "code",
    "id": "QwIUzE2gYXyV"
   },
   "outputs": [],
   "source": [
    "# Função utilizada para gerar os individuos\n",
    "def GeradorDeIndividuos(icls):\n",
    "    # o cromossomo é uma lista com um número inteiro para cada poço\n",
    "    # representando a qual manifold ele está ligado ou à plataforma\n",
    "    global pocos, custoeq, manif\n",
    "    while True:\n",
    "        cromossomo = []\n",
    "        for numpoco,poco in pocos.iterrows():\n",
    "            while True:\n",
    "                gene = np.random.randint(maxall+1)\n",
    "                if gene == 0:\n",
    "                    break\n",
    "                else:\n",
    "                    tipomanifold = manif.at[gene,'Tipo']\n",
    "                    if poco['Tipo'] in custoeq.at[tipomanifold,'pocos']:\n",
    "                        break\n",
    "            cromossomo.append(gene)\n",
    "        if FuncaoDeRestricao(cromossomo):\n",
    "            break\n",
    "    return icls(cromossomo)"
   ]
  },
  {
   "cell_type": "markdown",
   "metadata": {
    "colab_type": "text",
    "id": "v0Xc3Sh10R8M"
   },
   "source": [
    "### Declaração dos pacotes referentes a biblioteca do GA: \n",
    "#### Nomenclatura referente a biblioteca e deve-se alterar somente os pesos das funções que deverão ser, ou maximizada ou minimizada\n",
    "#### Pode-se alterar também o tipo da variavel do Individuo. Mas que, geralmente, é uma lista de numeros inteiros"
   ]
  },
  {
   "cell_type": "code",
   "execution_count": 36,
   "metadata": {
    "colab": {},
    "colab_type": "code",
    "id": "-qkFcI9M07DK"
   },
   "outputs": [
    {
     "name": "stderr",
     "output_type": "stream",
     "text": [
      "c:\\program files\\python37\\lib\\site-packages\\deap\\creator.py:141: RuntimeWarning: A class named 'FitnessMin' has already been created and it will be overwritten. Consider deleting previous creation of that class or rename it.\n",
      "  RuntimeWarning)\n",
      "c:\\program files\\python37\\lib\\site-packages\\deap\\creator.py:141: RuntimeWarning: A class named 'Individual' has already been created and it will be overwritten. Consider deleting previous creation of that class or rename it.\n",
      "  RuntimeWarning)\n"
     ]
    }
   ],
   "source": [
    "creator.create(\"FitnessMin\", base.Fitness, weights=(-1.0,))\n",
    "creator.create(\"Individual\", list, fitness=creator.FitnessMin)"
   ]
  },
  {
   "cell_type": "code",
   "execution_count": 40,
   "metadata": {
    "colab": {},
    "colab_type": "code",
    "id": "CQ23CH1D2fmb"
   },
   "outputs": [],
   "source": [
    "toolbox = base.Toolbox()\n",
    "\n",
    "# Inicialização do cromossomo\n",
    "toolbox.register(\"individual\", GeradorDeIndividuos, creator.Individual)\n",
    "# Registro do individuo na população\n",
    "toolbox.register(\"population\", tools.initRepeat, list, toolbox.individual)\n",
    "# Registro do nome da função objetivo\n",
    "toolbox.register(\"evaluate\", CustoTotal)\n",
    "\n",
    "penalidade = pocos['Nome'].count()*LDA*10*custolin['principal_var'].max()\n",
    "# Registro da função restrição com penalidade\n",
    "toolbox.decorate(\"evaluate\", tools.DeltaPenalty(FuncaoDeRestricao, penalidade, DistanciaRestricao))\n",
    "# Registro de qual o tipo de cruzamento deve ser utilizado (cruzamento uniforme com p=40%)\n",
    "toolbox.register(\"mate\", tools.cxUniform, indpb=0.4)\n",
    "# Registro de qual tipo de mutação deve ser utilizado (mutação para números inteiros com distribuição uniforme)\n",
    "toolbox.register(\"mutate\", tools.mutUniformInt, low=0, up=maxall, indpb=0.15)\n",
    "# Registro de qual o tipo do método de seleção que será utilizado (torneio de 3 indivíduos)\n",
    "toolbox.register(\"select\", tools.selTournament, tournsize=3)"
   ]
  },
  {
   "cell_type": "markdown",
   "metadata": {
    "colab_type": "text",
    "id": "Stxu97PT0y1U"
   },
   "source": [
    "## Chamada efetiva do GA para resolução"
   ]
  },
  {
   "cell_type": "code",
   "execution_count": 41,
   "metadata": {
    "colab": {},
    "colab_type": "code",
    "id": "jMHj1kTa9_oJ"
   },
   "outputs": [
    {
     "name": "stdout",
     "output_type": "stream",
     "text": [
      "[[8, 10, 11, 10, 8, 4, 8, 9, 11, 0, 10, 9, 11], (523351.14041864604,)]\n",
      "[[10, 11, 11, 8, 8, 10, 0, 10, 11, 9, 10, 1, 0], (515004.0611432291,)]\n",
      "[[9, 11, 10, 8, 8, 0, 0, 10, 11, 8, 10, 9, 0], (441509.38946229673,)]\n",
      "[[9, 11, 10, 8, 8, 0, 0, 10, 11, 8, 10, 9, 0], (441509.38946229673,)]\n",
      "[[9, 11, 10, 8, 8, 0, 0, 10, 11, 8, 10, 9, 0], (441509.38946229673,)]\n",
      "[[9, 11, 11, 10, 9, 0, 0, 0, 11, 11, 0, 9, 0], (437389.49002112926,)]\n",
      "[[9, 8, 9, 10, 0, 0, 0, 8, 8, 10, 0, 0, 0], (424546.4778043217,)]\n",
      "[[10, 11, 11, 10, 11, 0, 0, 0, 0, 10, 0, 0, 10], (418133.35072919866,)]\n",
      "[[10, 11, 11, 10, 11, 0, 0, 0, 0, 10, 0, 0, 10], (418133.35072919866,)]\n",
      "[[10, 11, 11, 10, 11, 0, 0, 0, 0, 10, 0, 0, 10], (418133.35072919866,)]\n",
      "[[11, 11, 11, 8, 8, 10, 0, 0, 11, 8, 10, 8, 0], (410040.07280302135,)]\n",
      "[[11, 11, 11, 8, 8, 10, 0, 0, 11, 8, 10, 8, 10], (406371.56351418217,)]\n",
      "[[11, 11, 11, 8, 8, 10, 0, 0, 11, 8, 10, 8, 10], (406371.56351418217,)]\n",
      "[[11, 11, 11, 8, 8, 10, 0, 0, 11, 8, 10, 8, 10], (406371.56351418217,)]\n",
      "[[10, 11, 11, 8, 8, 10, 0, 0, 11, 8, 10, 8, 0], (405968.72863041173,)]\n",
      "[[10, 11, 11, 8, 8, 10, 0, 0, 11, 8, 10, 8, 10], (401935.4816791119,)]\n",
      "[[10, 11, 11, 8, 8, 10, 0, 0, 11, 8, 10, 8, 10], (401935.4816791119,)]\n",
      "[[10, 11, 11, 8, 8, 10, 0, 0, 11, 8, 10, 8, 10], (401935.4816791119,)]\n",
      "[[10, 11, 11, 8, 8, 10, 0, 0, 11, 8, 10, 8, 10], (401935.4816791119,)]\n",
      "[[10, 11, 11, 8, 8, 10, 0, 0, 11, 8, 10, 8, 10], (401935.4816791119,)]\n",
      "[[10, 11, 11, 8, 8, 10, 0, 0, 11, 8, 10, 8, 10], (401935.4816791119,)]\n",
      "[[10, 11, 11, 8, 8, 10, 0, 0, 11, 8, 10, 8, 10], (401935.4816791119,)]\n",
      "[[10, 11, 11, 8, 8, 10, 0, 0, 11, 8, 10, 8, 10], (401935.4816791119,)]\n",
      "[[10, 11, 11, 8, 8, 10, 0, 0, 11, 8, 10, 8, 10], (401935.4816791119,)]\n",
      "[[10, 11, 11, 8, 8, 10, 0, 0, 11, 8, 10, 8, 10], (401935.4816791119,)]\n",
      "[[10, 11, 11, 8, 8, 10, 0, 0, 11, 8, 10, 8, 10], (401935.4816791119,)]\n",
      "[[10, 11, 11, 8, 8, 10, 0, 0, 11, 8, 10, 8, 10], (401935.4816791119,)]\n",
      "[[10, 11, 11, 8, 8, 10, 0, 0, 11, 8, 10, 8, 10], (401935.4816791119,)]\n",
      "[[10, 11, 11, 8, 8, 10, 0, 0, 11, 8, 10, 8, 10], (401935.4816791119,)]\n",
      "[[10, 11, 11, 8, 8, 10, 0, 0, 11, 8, 10, 8, 10], (401935.4816791119,)]\n",
      "[[10, 11, 11, 8, 8, 10, 0, 0, 11, 8, 10, 8, 10], (401935.4816791119,)]\n",
      "[[10, 11, 11, 8, 8, 10, 0, 0, 11, 8, 10, 8, 10], (401935.4816791119,)]\n",
      "[[10, 11, 11, 8, 8, 10, 0, 0, 11, 8, 10, 8, 10], (401935.4816791119,)]\n",
      "[[10, 11, 11, 8, 0, 10, 0, 11, 11, 8, 10, 8, 10], (401625.54716542776,)]\n",
      "[[10, 11, 11, 8, 0, 10, 0, 11, 11, 8, 10, 8, 10], (401625.54716542776,)]\n",
      "[[10, 11, 11, 8, 8, 10, 0, 11, 11, 8, 10, 8, 10], (393836.73690250836,)]\n",
      "[[10, 11, 11, 8, 8, 10, 0, 11, 11, 8, 10, 8, 10], (393836.73690250836,)]\n",
      "[[10, 11, 11, 8, 8, 10, 0, 11, 11, 8, 10, 8, 10], (393836.73690250836,)]\n",
      "[[10, 11, 11, 8, 8, 10, 0, 11, 11, 8, 10, 8, 10], (393836.73690250836,)]\n",
      "[[10, 11, 11, 8, 8, 10, 0, 11, 11, 8, 10, 8, 10], (393836.73690250836,)]\n",
      "[[10, 11, 11, 8, 8, 10, 0, 11, 11, 8, 10, 8, 10], (393836.73690250836,)]\n",
      "[[10, 11, 11, 8, 8, 10, 0, 11, 11, 8, 10, 8, 10], (393836.73690250836,)]\n",
      "[[10, 11, 11, 8, 8, 10, 0, 11, 11, 8, 10, 8, 10], (393836.73690250836,)]\n",
      "[[10, 11, 11, 8, 8, 10, 0, 11, 11, 8, 10, 8, 10], (393836.73690250836,)]\n",
      "[[10, 11, 11, 8, 8, 10, 0, 11, 11, 8, 10, 8, 10], (393836.73690250836,)]\n",
      "[[10, 11, 11, 8, 8, 10, 0, 11, 11, 8, 10, 8, 10], (393836.73690250836,)]\n",
      "[[10, 11, 11, 8, 8, 10, 0, 11, 11, 8, 10, 8, 10], (393836.73690250836,)]\n",
      "[[10, 11, 11, 8, 8, 10, 0, 11, 11, 8, 10, 8, 10], (393836.73690250836,)]\n",
      "[[10, 11, 11, 8, 8, 10, 0, 11, 11, 8, 10, 8, 10], (393836.73690250836,)]\n",
      "[[10, 11, 11, 8, 8, 10, 0, 11, 11, 8, 10, 8, 10], (393836.73690250836,)]\n",
      "[[10, 11, 11, 8, 8, 10, 0, 11, 11, 8, 10, 8, 10], (393836.73690250836,)]\n"
     ]
    }
   ],
   "source": [
    "n_populacao = 100\n",
    "popula = toolbox.population(n=n_populacao)\n",
    "fits = list(map(toolbox.evaluate, popula))\n",
    "for ind,fit in zip(popula,fits):\n",
    "    ind.fitness.values = fit\n",
    "    \n",
    "bests=[]\n",
    "NGEN = 50\n",
    "best_ever = tools.selBest(popula,1)[0]\n",
    "best_ever = [best_ever, best_ever.fitness.values]\n",
    "print(best_ever)\n",
    "\n",
    "for gen in range(NGEN):\n",
    "    offspring = toolbox.select(popula,n_populacao)\n",
    "    offspring = algorithms.varAnd(offspring, toolbox, cxpb=0.6, mutpb=0.2)\n",
    "    \n",
    "    fits = list(map(toolbox.evaluate, offspring))\n",
    "    for ind,fit in zip(offspring, fits):\n",
    "        ind.fitness.values = fit\n",
    "    popula = deepcopy(offspring)\n",
    "    best = tools.selBest(offspring,1)[0]\n",
    "    if best.fitness.values < best_ever[1]:\n",
    "        best_ever = [best, best.fitness.values]\n",
    "    bests.append(best.fitness.values)\n",
    "    print(best_ever)\n",
    "    #print('Best: %s, %s' % (best,best.fitness.values))\n",
    "    \n",
    "melhorcusto = CustoTotal(best_ever[0],final=True)[0]\n",
    "#manif.drop(manif[manif['X']==0].index, inplace=True)"
   ]
  },
  {
   "cell_type": "code",
   "execution_count": 42,
   "metadata": {
    "colab": {},
    "colab_type": "code",
    "id": "U4dAG2TSQfrH"
   },
   "outputs": [
    {
     "data": {
      "image/png": "[encoded data removed]",
      "text/plain": [
       "<Figure size 432x288 with 1 Axes>"
      ]
     },
     "metadata": {
      "needs_background": "light"
     },
     "output_type": "display_data"
    }
   ],
   "source": [
    "plt.plot(bests)\n",
    "plt.ylabel('Menor valor da função de aptidão')\n",
    "plt.xlabel('Geração')\n",
    "plt.show()"
   ]
  },
  {
   "cell_type": "markdown",
   "metadata": {},
   "source": [
    "# Resultado"
   ]
  },
  {
   "cell_type": "code",
   "execution_count": 48,
   "metadata": {},
   "outputs": [
    {
     "data": {
      "image/png": "[encoded data removed]",
      "text/plain": [
       "<Figure size 432x288 with 1 Axes>"
      ]
     },
     "metadata": {
      "needs_background": "light"
     },
     "output_type": "display_data"
    }
   ],
   "source": [
    "manifplot = manif.drop(manif[manif['X']==0].index, inplace=False)\n",
    "coresP = {'P':'k', 'W':'r', 'A':'r'}\n",
    "for g in pd.unique(pocos['Tipo']):\n",
    "    toplot = pocos[pocos['Tipo']==g]\n",
    "    plt.scatter(toplot['X'],toplot['Y'], color=coresP[g])\n",
    "#plt.scatter(pocos['X'],pocos['Y'], color=coresP[pocos['Tipo']])\n",
    "plt.scatter(manifplot.loc[1:,'X'],manifplot.loc[1:,'Y'])\n",
    "plt.scatter(manifplot.at[0,'X'],manifplot.at[0,'Y'])\n",
    "coresM = {'MSGL':'g', 'SDU':'b', 'MSIAG':'r', 'Plat':'y'}\n",
    "for poco,manifold in enumerate(best_ever[0]):\n",
    "    ponto1 = list(pocos.loc[poco,['X','Y']])\n",
    "    ponto2 = list(manifplot.loc[manifold,['X','Y']])\n",
    "    plt.plot([ponto1[0],ponto2[0]],[ponto1[1],ponto2[1]],color=coresM[manifplot.at[manifold,'Tipo']])\n",
    "for manifold,dados in manifplot.iterrows():\n",
    "    if manifold==0:\n",
    "        ponto1 = list(dados.loc[['X','Y']])\n",
    "    else:\n",
    "        ponto2 = list(dados.loc[['X','Y']])\n",
    "        plt.plot([ponto1[0],ponto2[0]],[ponto1[1],ponto2[1]],color='k')\n",
    "plt.show()"
   ]
  },
  {
   "cell_type": "code",
   "execution_count": 46,
   "metadata": {},
   "outputs": [
    {
     "data": {
      "text/html": [
       "<div>\n",
       "<style scoped>\n",
       "    .dataframe tbody tr th:only-of-type {\n",
       "        vertical-align: middle;\n",
       "    }\n",
       "\n",
       "    .dataframe tbody tr th {\n",
       "        vertical-align: top;\n",
       "    }\n",
       "\n",
       "    .dataframe thead th {\n",
       "        text-align: right;\n",
       "    }\n",
       "</style>\n",
       "<table border=\"1\" class=\"dataframe\">\n",
       "  <thead>\n",
       "    <tr style=\"text-align: right;\">\n",
       "      <th></th>\n",
       "      <th>X</th>\n",
       "      <th>Y</th>\n",
       "      <th>Tipo</th>\n",
       "    </tr>\n",
       "  </thead>\n",
       "  <tbody>\n",
       "    <tr>\n",
       "      <th>0</th>\n",
       "      <td>280.312181</td>\n",
       "      <td>-2704.099739</td>\n",
       "      <td>Plat</td>\n",
       "    </tr>\n",
       "    <tr>\n",
       "      <th>8</th>\n",
       "      <td>-1832.408929</td>\n",
       "      <td>918.107646</td>\n",
       "      <td>SDU</td>\n",
       "    </tr>\n",
       "    <tr>\n",
       "      <th>10</th>\n",
       "      <td>-1422.371215</td>\n",
       "      <td>-768.174939</td>\n",
       "      <td>SDU</td>\n",
       "    </tr>\n",
       "    <tr>\n",
       "      <th>11</th>\n",
       "      <td>3910.779658</td>\n",
       "      <td>-2762.753196</td>\n",
       "      <td>SDU</td>\n",
       "    </tr>\n",
       "  </tbody>\n",
       "</table>\n",
       "</div>"
      ],
      "text/plain": [
       "              X            Y  Tipo\n",
       "0    280.312181 -2704.099739  Plat\n",
       "8  -1832.408929   918.107646   SDU\n",
       "10 -1422.371215  -768.174939   SDU\n",
       "11  3910.779658 -2762.753196   SDU"
      ]
     },
     "execution_count": 46,
     "metadata": {},
     "output_type": "execute_result"
    }
   ],
   "source": [
    "manifplot"
   ]
  },
  {
   "cell_type": "markdown",
   "metadata": {},
   "source": [
    "To-do:<br>\n",
    "- ~Plotar resultado com linhas~\n",
    "- Melhorar algoritmo para não cair mais nos mínimos locais\n",
    "- ~Incluir uma função de distância para as restrições~\n",
    "- ~Usar o algoritmo simples para a localização da plataforma~\n",
    "- Incluir custo ~(ou comprimento)~ de riser\n",
    "- Melhorar cálculo dos custos para o modelo {fixo+distância*variável}"
   ]
  },
  {
   "cell_type": "markdown",
   "metadata": {},
   "source": [
    "## Área de rascunho"
   ]
  },
  {
   "cell_type": "code",
   "execution_count": 27,
   "metadata": {},
   "outputs": [],
   "source": [
    "ponto = [8, 9, 9, 10, 10, 8, 8, 9, 9, 0, 10, 8, 10]\n",
    "best_ever = [ponto, CustoTotal(ponto,final=True)]"
   ]
  },
  {
   "cell_type": "markdown",
   "metadata": {},
   "source": [
    "x = c"
   ]
  },
  {
   "cell_type": "code",
   "execution_count": 28,
   "metadata": {},
   "outputs": [
    {
     "data": {
      "text/plain": [
       "(371650.3081044813,)"
      ]
     },
     "execution_count": 28,
     "metadata": {},
     "output_type": "execute_result"
    }
   ],
   "source": [
    "CustoTotal(ponto,final=True)"
   ]
  },
  {
   "cell_type": "code",
   "execution_count": 25,
   "metadata": {},
   "outputs": [
    {
     "name": "stdout",
     "output_type": "stream",
     "text": [
      "[10361.792585919557, -10523.095813237302]\n",
      "[8797.708554563516, 1578.3723804310575]\n"
     ]
    }
   ],
   "source": [
    "print(pop[1])\n",
    "print(pop[5])"
   ]
  },
  {
   "cell_type": "code",
   "execution_count": 24,
   "metadata": {},
   "outputs": [
    {
     "data": {
      "text/html": [
       "<div>\n",
       "<style scoped>\n",
       "    .dataframe tbody tr th:only-of-type {\n",
       "        vertical-align: middle;\n",
       "    }\n",
       "\n",
       "    .dataframe tbody tr th {\n",
       "        vertical-align: top;\n",
       "    }\n",
       "\n",
       "    .dataframe thead th {\n",
       "        text-align: right;\n",
       "    }\n",
       "</style>\n",
       "<table border=\"1\" class=\"dataframe\">\n",
       "  <thead>\n",
       "    <tr style=\"text-align: right;\">\n",
       "      <th></th>\n",
       "      <th>Nome</th>\n",
       "      <th>X</th>\n",
       "      <th>Y</th>\n",
       "      <th>Tipo</th>\n",
       "    </tr>\n",
       "  </thead>\n",
       "  <tbody>\n",
       "    <tr>\n",
       "      <th>0</th>\n",
       "      <td>WAG1</td>\n",
       "      <td>485.699422</td>\n",
       "      <td>796.459049</td>\n",
       "      <td>W</td>\n",
       "    </tr>\n",
       "    <tr>\n",
       "      <th>1</th>\n",
       "      <td>WAG2</td>\n",
       "      <td>6036.900474</td>\n",
       "      <td>-5480.519026</td>\n",
       "      <td>W</td>\n",
       "    </tr>\n",
       "    <tr>\n",
       "      <th>2</th>\n",
       "      <td>WAG3</td>\n",
       "      <td>5289.208571</td>\n",
       "      <td>-615.039582</td>\n",
       "      <td>W</td>\n",
       "    </tr>\n",
       "    <tr>\n",
       "      <th>3</th>\n",
       "      <td>WAG4</td>\n",
       "      <td>-1577.096057</td>\n",
       "      <td>3196.922295</td>\n",
       "      <td>W</td>\n",
       "    </tr>\n",
       "    <tr>\n",
       "      <th>4</th>\n",
       "      <td>WAG5</td>\n",
       "      <td>-4672.499098</td>\n",
       "      <td>1792.671609</td>\n",
       "      <td>W</td>\n",
       "    </tr>\n",
       "    <tr>\n",
       "      <th>5</th>\n",
       "      <td>WAG6</td>\n",
       "      <td>-2930.926974</td>\n",
       "      <td>-1306.364818</td>\n",
       "      <td>W</td>\n",
       "    </tr>\n",
       "    <tr>\n",
       "      <th>6</th>\n",
       "      <td>PO1</td>\n",
       "      <td>-2282.575846</td>\n",
       "      <td>298.398152</td>\n",
       "      <td>P</td>\n",
       "    </tr>\n",
       "    <tr>\n",
       "      <th>7</th>\n",
       "      <td>PO2</td>\n",
       "      <td>6157.279148</td>\n",
       "      <td>-2152.901390</td>\n",
       "      <td>P</td>\n",
       "    </tr>\n",
       "    <tr>\n",
       "      <th>8</th>\n",
       "      <td>PO3</td>\n",
       "      <td>4862.131934</td>\n",
       "      <td>-2910.836093</td>\n",
       "      <td>P</td>\n",
       "    </tr>\n",
       "    <tr>\n",
       "      <th>9</th>\n",
       "      <td>PO5</td>\n",
       "      <td>-2356.923793</td>\n",
       "      <td>1272.194585</td>\n",
       "      <td>P</td>\n",
       "    </tr>\n",
       "    <tr>\n",
       "      <th>10</th>\n",
       "      <td>PO6</td>\n",
       "      <td>-3673.766155</td>\n",
       "      <td>-1262.805957</td>\n",
       "      <td>P</td>\n",
       "    </tr>\n",
       "    <tr>\n",
       "      <th>11</th>\n",
       "      <td>PO7</td>\n",
       "      <td>-2623.524969</td>\n",
       "      <td>4097.794188</td>\n",
       "      <td>P</td>\n",
       "    </tr>\n",
       "    <tr>\n",
       "      <th>12</th>\n",
       "      <td>PO8</td>\n",
       "      <td>-2713.906656</td>\n",
       "      <td>2274.026987</td>\n",
       "      <td>P</td>\n",
       "    </tr>\n",
       "  </tbody>\n",
       "</table>\n",
       "</div>"
      ],
      "text/plain": [
       "    Nome            X            Y Tipo\n",
       "0   WAG1   485.699422   796.459049    W\n",
       "1   WAG2  6036.900474 -5480.519026    W\n",
       "2   WAG3  5289.208571  -615.039582    W\n",
       "3   WAG4 -1577.096057  3196.922295    W\n",
       "4   WAG5 -4672.499098  1792.671609    W\n",
       "5   WAG6 -2930.926974 -1306.364818    W\n",
       "6    PO1 -2282.575846   298.398152    P\n",
       "7    PO2  6157.279148 -2152.901390    P\n",
       "8    PO3  4862.131934 -2910.836093    P\n",
       "9    PO5 -2356.923793  1272.194585    P\n",
       "10   PO6 -3673.766155 -1262.805957    P\n",
       "11   PO7 -2623.524969  4097.794188    P\n",
       "12   PO8 -2713.906656  2274.026987    P"
      ]
     },
     "execution_count": 24,
     "metadata": {},
     "output_type": "execute_result"
    }
   ],
   "source": [
    "pocos"
   ]
  },
  {
   "cell_type": "code",
   "execution_count": 8,
   "metadata": {},
   "outputs": [],
   "source": [
    "pop = toolboxplat.population(n=100)\n",
    "hof = tools.HallOfFame(1)"
   ]
  },
  {
   "cell_type": "code",
   "execution_count": 29,
   "metadata": {},
   "outputs": [
    {
     "name": "stdout",
     "output_type": "stream",
     "text": [
      "487500.0\n"
     ]
    }
   ],
   "source": [
    "penalidade = pocos['Nome'].count()*LDA*5*custolin['principal_var'].max()\n",
    "print(penalidade)"
   ]
  }
 ],
 "metadata": {
  "colab": {
   "collapsed_sections": [],
   "name": "Exercicio - Telecom - ParteA.ipynb",
   "provenance": []
  },
  "kernelspec": {
   "display_name": "Python 3",
   "language": "python",
   "name": "python3"
  },
  "language_info": {
   "codemirror_mode": {
    "name": "ipython",
    "version": 3
   },
   "file_extension": ".py",
   "mimetype": "text/x-python",
   "name": "python",
   "nbconvert_exporter": "python",
   "pygments_lexer": "ipython3",
   "version": "3.7.4"
  }
 },
 "nbformat": 4,
 "nbformat_minor": 1
}
